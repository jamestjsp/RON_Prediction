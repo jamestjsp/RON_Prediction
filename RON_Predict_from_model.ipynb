{
 "cells": [
  {
   "cell_type": "markdown",
   "metadata": {
    "colab_type": "text",
    "id": "EIdT9iu_Z4Rb"
   },
   "source": [
    "# Regression: predict RON and Cocking Rate"
   ]
  },
  {
   "cell_type": "code",
   "execution_count": 2,
   "metadata": {
    "colab": {
     "base_uri": "https://localhost:8080/",
     "height": 34
    },
    "colab_type": "code",
    "executionInfo": {
     "elapsed": 2704,
     "status": "ok",
     "timestamp": 1566292732428,
     "user": {
      "displayName": "James T Joseph",
      "photoUrl": "https://lh3.googleusercontent.com/a-/AAuE7mAcu_oUwdtaKADavmin2nq4aZtcHyb8N9p0iAp_ABs=s64",
      "userId": "01930079610007864337"
     },
     "user_tz": -330
    },
    "id": "1rRo8oNqZ-Rj",
    "outputId": "b47fd979-d202-4fda-c9e5-48511164f896"
   },
   "outputs": [],
   "source": [
    "from __future__ import absolute_import, division, print_function, unicode_literals\n",
    "\n",
    "import pathlib\n",
    "\n",
    "import matplotlib.pyplot as plt\n",
    "import numpy as np\n",
    "import pandas as pd\n",
    "import seaborn as sns\n",
    "\n",
    "# import tensorflow as tf\n",
    "# from tensorflow import keras\n",
    "from tensorflow.keras.models import load_model\n",
    "# from tensorflow.keras import layers\n",
    "\n",
    "# print(tf.__version__)"
   ]
  },
  {
   "cell_type": "markdown",
   "metadata": {
    "colab_type": "text",
    "id": "gFh9ne3FZ-On"
   },
   "source": [
    "### Get the data\n",
    "Import dataset using pandas."
   ]
  },
  {
   "cell_type": "code",
   "execution_count": 62,
   "metadata": {
    "colab": {
     "base_uri": "https://localhost:8080/",
     "height": 204
    },
    "colab_type": "code",
    "executionInfo": {
     "elapsed": 877,
     "status": "ok",
     "timestamp": 1566293777241,
     "user": {
      "displayName": "James T Joseph",
      "photoUrl": "https://lh3.googleusercontent.com/a-/AAuE7mAcu_oUwdtaKADavmin2nq4aZtcHyb8N9p0iAp_ABs=s64",
      "userId": "01930079610007864337"
     },
     "user_tz": -330
    },
    "id": "CiX2FI4gZtTt",
    "outputId": "ab20fc51-db46-4cc1-97c8-29424280f807"
   },
   "outputs": [
    {
     "data": {
      "text/html": [
       "<div>\n",
       "<style scoped>\n",
       "    .dataframe tbody tr th:only-of-type {\n",
       "        vertical-align: middle;\n",
       "    }\n",
       "\n",
       "    .dataframe tbody tr th {\n",
       "        vertical-align: top;\n",
       "    }\n",
       "\n",
       "    .dataframe thead th {\n",
       "        text-align: right;\n",
       "    }\n",
       "</style>\n",
       "<table border=\"1\" class=\"dataframe\">\n",
       "  <thead>\n",
       "    <tr style=\"text-align: right;\">\n",
       "      <th></th>\n",
       "      <th>C6Plus_RON</th>\n",
       "      <th>Coke_Laydown_Rate_Rx4</th>\n",
       "      <th>Reformer_WAIT</th>\n",
       "      <th>Feed_Mass_Flow</th>\n",
       "      <th>H2HC_Ratio</th>\n",
       "    </tr>\n",
       "  </thead>\n",
       "  <tbody>\n",
       "    <tr>\n",
       "      <th>0</th>\n",
       "      <td>94.67</td>\n",
       "      <td>15.76</td>\n",
       "      <td>490</td>\n",
       "      <td>170000.0</td>\n",
       "      <td>3.0</td>\n",
       "    </tr>\n",
       "    <tr>\n",
       "      <th>1</th>\n",
       "      <td>94.57</td>\n",
       "      <td>13.63</td>\n",
       "      <td>490</td>\n",
       "      <td>170000.0</td>\n",
       "      <td>3.5</td>\n",
       "    </tr>\n",
       "    <tr>\n",
       "      <th>2</th>\n",
       "      <td>94.47</td>\n",
       "      <td>11.91</td>\n",
       "      <td>490</td>\n",
       "      <td>170000.0</td>\n",
       "      <td>4.0</td>\n",
       "    </tr>\n",
       "    <tr>\n",
       "      <th>3</th>\n",
       "      <td>94.55</td>\n",
       "      <td>15.72</td>\n",
       "      <td>490</td>\n",
       "      <td>172000.0</td>\n",
       "      <td>3.0</td>\n",
       "    </tr>\n",
       "    <tr>\n",
       "      <th>4</th>\n",
       "      <td>94.45</td>\n",
       "      <td>13.59</td>\n",
       "      <td>490</td>\n",
       "      <td>172000.0</td>\n",
       "      <td>3.5</td>\n",
       "    </tr>\n",
       "  </tbody>\n",
       "</table>\n",
       "</div>"
      ],
      "text/plain": [
       "   C6Plus_RON  Coke_Laydown_Rate_Rx4  Reformer_WAIT  Feed_Mass_Flow  \\\n",
       "0       94.67                  15.76            490        170000.0   \n",
       "1       94.57                  13.63            490        170000.0   \n",
       "2       94.47                  11.91            490        170000.0   \n",
       "3       94.55                  15.72            490        172000.0   \n",
       "4       94.45                  13.59            490        172000.0   \n",
       "\n",
       "   H2HC_Ratio  \n",
       "0         3.0  \n",
       "1         3.5  \n",
       "2         4.0  \n",
       "3         3.0  \n",
       "4         3.5  "
      ]
     },
     "execution_count": 62,
     "metadata": {},
     "output_type": "execute_result"
    }
   ],
   "source": [
    "dataset_path = 'Case_study_20190812.csv'\n",
    "raw_dataset = pd.read_csv(dataset_path)\n",
    "\n",
    "dataset = raw_dataset.copy()\n",
    "dataset.head()"
   ]
  },
  {
   "cell_type": "markdown",
   "metadata": {
    "colab_type": "text",
    "id": "Cuym4yvk76vU"
   },
   "source": [
    "### Split the data into train and test\n",
    "\n",
    "Now split the dataset into a training set and a test set.\n",
    "\n",
    "We will use the test set in the final evaluation of our model."
   ]
  },
  {
   "cell_type": "code",
   "execution_count": 63,
   "metadata": {
    "colab": {},
    "colab_type": "code",
    "id": "qn-IGhUE7_1H"
   },
   "outputs": [],
   "source": [
    "train_dataset = dataset.sample(frac=0.8,random_state=35)\n",
    "test_dataset = dataset.drop(train_dataset.index)"
   ]
  },
  {
   "cell_type": "markdown",
   "metadata": {
    "colab_type": "text",
    "id": "J4ubs136WLNp"
   },
   "source": [
    "### Inspect the data\n",
    "\n",
    "Have a quick look at the joint distribution of a few pairs of columns from the training set."
   ]
  },
  {
   "cell_type": "code",
   "execution_count": 64,
   "metadata": {
    "colab": {
     "base_uri": "https://localhost:8080/",
     "height": 929
    },
    "colab_type": "code",
    "executionInfo": {
     "elapsed": 5558,
     "status": "ok",
     "timestamp": 1566293827147,
     "user": {
      "displayName": "James T Joseph",
      "photoUrl": "https://lh3.googleusercontent.com/a-/AAuE7mAcu_oUwdtaKADavmin2nq4aZtcHyb8N9p0iAp_ABs=s64",
      "userId": "01930079610007864337"
     },
     "user_tz": -330
    },
    "id": "oRKO_x8gWKv-",
    "outputId": "de4175a2-a54a-494b-ee0b-9c511865c7e6"
   },
   "outputs": [
    {
     "data": {
      "image/png": "[encoded data removed]",
      "text/plain": [
       "<Figure size 900x900 with 30 Axes>"
      ]
     },
     "metadata": {
      "needs_background": "light"
     },
     "output_type": "display_data"
    }
   ],
   "source": [
    "sns.pairplot(train_dataset[['C6Plus_RON','Coke_Laydown_Rate_Rx4', 'Reformer_WAIT','Feed_Mass_Flow','H2HC_Ratio']], diag_kind=\"kde\")\n",
    "plt.show()"
   ]
  },
  {
   "cell_type": "markdown",
   "metadata": {
    "colab_type": "text",
    "id": "gavKO_6DWRMP"
   },
   "source": [
    "Also look at the overall statistics:"
   ]
  },
  {
   "cell_type": "code",
   "execution_count": 66,
   "metadata": {
    "colab": {
     "base_uri": "https://localhost:8080/",
     "height": 142
    },
    "colab_type": "code",
    "executionInfo": {
     "elapsed": 927,
     "status": "ok",
     "timestamp": 1566293831869,
     "user": {
      "displayName": "James T Joseph",
      "photoUrl": "https://lh3.googleusercontent.com/a-/AAuE7mAcu_oUwdtaKADavmin2nq4aZtcHyb8N9p0iAp_ABs=s64",
      "userId": "01930079610007864337"
     },
     "user_tz": -330
    },
    "id": "yi2FzC3T21jR",
    "outputId": "f06ebb15-e99b-4487-93d7-cd38899f69e7"
   },
   "outputs": [
    {
     "data": {
      "text/plain": [
       "array([[5.11041667e+02, 1.41591827e+01],\n",
       "       [1.72916667e+05, 2.24624443e+03],\n",
       "       [3.52083333e+00, 4.09856629e-01]])"
      ]
     },
     "execution_count": 66,
     "metadata": {},
     "output_type": "execute_result"
    }
   ],
   "source": [
    "train_stats = train_dataset.describe()\n",
    "train_stats.pop('C6Plus_RON')\n",
    "train_stats.pop('Coke_Laydown_Rate_Rx4')\n",
    "train_stats = train_stats.transpose()\n",
    "np.array(train_stats[['mean', 'std']])"
   ]
  },
  {
   "cell_type": "markdown",
   "metadata": {
    "colab_type": "text",
    "id": "Db7Auq1yXUvh"
   },
   "source": [
    "### Split features from labels\n",
    "\n",
    "Separate the target value, or \"label\", from the features. This label is the value that you will train the model to predict."
   ]
  },
  {
   "cell_type": "code",
   "execution_count": 8,
   "metadata": {
    "colab": {
     "base_uri": "https://localhost:8080/",
     "height": 204
    },
    "colab_type": "code",
    "executionInfo": {
     "elapsed": 833,
     "status": "ok",
     "timestamp": 1566293834483,
     "user": {
      "displayName": "James T Joseph",
      "photoUrl": "https://lh3.googleusercontent.com/a-/AAuE7mAcu_oUwdtaKADavmin2nq4aZtcHyb8N9p0iAp_ABs=s64",
      "userId": "01930079610007864337"
     },
     "user_tz": -330
    },
    "id": "_WD_Nhr5y-xW",
    "outputId": "4f9c9e7a-1c68-4547-bbc4-9f9b61e0e234"
   },
   "outputs": [
    {
     "data": {
      "text/html": [
       "<div>\n",
       "<style scoped>\n",
       "    .dataframe tbody tr th:only-of-type {\n",
       "        vertical-align: middle;\n",
       "    }\n",
       "\n",
       "    .dataframe tbody tr th {\n",
       "        vertical-align: top;\n",
       "    }\n",
       "\n",
       "    .dataframe thead th {\n",
       "        text-align: right;\n",
       "    }\n",
       "</style>\n",
       "<table border=\"1\" class=\"dataframe\">\n",
       "  <thead>\n",
       "    <tr style=\"text-align: right;\">\n",
       "      <th></th>\n",
       "      <th>C6Plus_RON</th>\n",
       "      <th>Coke_Laydown_Rate_Rx4</th>\n",
       "      <th>Reformer_WAIT</th>\n",
       "      <th>Feed_Mass_Flow</th>\n",
       "      <th>H2HC_Ratio</th>\n",
       "    </tr>\n",
       "  </thead>\n",
       "  <tbody>\n",
       "    <tr>\n",
       "      <th>10</th>\n",
       "      <td>94.22</td>\n",
       "      <td>13.52</td>\n",
       "      <td>490</td>\n",
       "      <td>176000.0</td>\n",
       "      <td>3.5</td>\n",
       "    </tr>\n",
       "    <tr>\n",
       "      <th>87</th>\n",
       "      <td>106.00</td>\n",
       "      <td>108.00</td>\n",
       "      <td>525</td>\n",
       "      <td>172000.0</td>\n",
       "      <td>3.0</td>\n",
       "    </tr>\n",
       "    <tr>\n",
       "      <th>48</th>\n",
       "      <td>102.50</td>\n",
       "      <td>52.71</td>\n",
       "      <td>510</td>\n",
       "      <td>170000.0</td>\n",
       "      <td>3.0</td>\n",
       "    </tr>\n",
       "    <tr>\n",
       "      <th>60</th>\n",
       "      <td>104.10</td>\n",
       "      <td>69.13</td>\n",
       "      <td>515</td>\n",
       "      <td>170000.0</td>\n",
       "      <td>3.0</td>\n",
       "    </tr>\n",
       "    <tr>\n",
       "      <th>14</th>\n",
       "      <td>96.47</td>\n",
       "      <td>16.19</td>\n",
       "      <td>495</td>\n",
       "      <td>170000.0</td>\n",
       "      <td>4.0</td>\n",
       "    </tr>\n",
       "  </tbody>\n",
       "</table>\n",
       "</div>"
      ],
      "text/plain": [
       "    C6Plus_RON  Coke_Laydown_Rate_Rx4  Reformer_WAIT  Feed_Mass_Flow  \\\n",
       "10       94.22                  13.52            490        176000.0   \n",
       "87      106.00                 108.00            525        172000.0   \n",
       "48      102.50                  52.71            510        170000.0   \n",
       "60      104.10                  69.13            515        170000.0   \n",
       "14       96.47                  16.19            495        170000.0   \n",
       "\n",
       "    H2HC_Ratio  \n",
       "10         3.5  \n",
       "87         3.0  \n",
       "48         3.0  \n",
       "60         3.0  \n",
       "14         4.0  "
      ]
     },
     "execution_count": 8,
     "metadata": {},
     "output_type": "execute_result"
    }
   ],
   "source": [
    "train_dataset.head()"
   ]
  },
  {
   "cell_type": "code",
   "execution_count": 9,
   "metadata": {
    "colab": {},
    "colab_type": "code",
    "id": "t2sluJdCW7jN"
   },
   "outputs": [],
   "source": [
    "train_labels = train_dataset[['C6Plus_RON']]\n",
    "test_labels = test_dataset[['C6Plus_RON']]\n",
    "train_dataset.drop(['C6Plus_RON', 'Coke_Laydown_Rate_Rx4'],  axis = 1, inplace= True)\n",
    "test_dataset.drop(['C6Plus_RON', 'Coke_Laydown_Rate_Rx4'],  axis = 1, inplace= True)"
   ]
  },
  {
   "cell_type": "code",
   "execution_count": 10,
   "metadata": {
    "colab": {
     "base_uri": "https://localhost:8080/",
     "height": 204
    },
    "colab_type": "code",
    "executionInfo": {
     "elapsed": 829,
     "status": "ok",
     "timestamp": 1566293838726,
     "user": {
      "displayName": "James T Joseph",
      "photoUrl": "https://lh3.googleusercontent.com/a-/AAuE7mAcu_oUwdtaKADavmin2nq4aZtcHyb8N9p0iAp_ABs=s64",
      "userId": "01930079610007864337"
     },
     "user_tz": -330
    },
    "id": "S544rSmCy-xb",
    "outputId": "69443744-e643-4d50-b131-a2ba7b400454"
   },
   "outputs": [
    {
     "data": {
      "text/html": [
       "<div>\n",
       "<style scoped>\n",
       "    .dataframe tbody tr th:only-of-type {\n",
       "        vertical-align: middle;\n",
       "    }\n",
       "\n",
       "    .dataframe tbody tr th {\n",
       "        vertical-align: top;\n",
       "    }\n",
       "\n",
       "    .dataframe thead th {\n",
       "        text-align: right;\n",
       "    }\n",
       "</style>\n",
       "<table border=\"1\" class=\"dataframe\">\n",
       "  <thead>\n",
       "    <tr style=\"text-align: right;\">\n",
       "      <th></th>\n",
       "      <th>Reformer_WAIT</th>\n",
       "      <th>Feed_Mass_Flow</th>\n",
       "      <th>H2HC_Ratio</th>\n",
       "    </tr>\n",
       "  </thead>\n",
       "  <tbody>\n",
       "    <tr>\n",
       "      <th>11</th>\n",
       "      <td>490</td>\n",
       "      <td>176000.0</td>\n",
       "      <td>4.0</td>\n",
       "    </tr>\n",
       "    <tr>\n",
       "      <th>15</th>\n",
       "      <td>495</td>\n",
       "      <td>172000.0</td>\n",
       "      <td>3.0</td>\n",
       "    </tr>\n",
       "    <tr>\n",
       "      <th>21</th>\n",
       "      <td>495</td>\n",
       "      <td>176000.0</td>\n",
       "      <td>3.0</td>\n",
       "    </tr>\n",
       "    <tr>\n",
       "      <th>33</th>\n",
       "      <td>500</td>\n",
       "      <td>176000.0</td>\n",
       "      <td>3.0</td>\n",
       "    </tr>\n",
       "    <tr>\n",
       "      <th>44</th>\n",
       "      <td>505</td>\n",
       "      <td>174000.0</td>\n",
       "      <td>4.0</td>\n",
       "    </tr>\n",
       "  </tbody>\n",
       "</table>\n",
       "</div>"
      ],
      "text/plain": [
       "    Reformer_WAIT  Feed_Mass_Flow  H2HC_Ratio\n",
       "11            490        176000.0         4.0\n",
       "15            495        172000.0         3.0\n",
       "21            495        176000.0         3.0\n",
       "33            500        176000.0         3.0\n",
       "44            505        174000.0         4.0"
      ]
     },
     "execution_count": 10,
     "metadata": {},
     "output_type": "execute_result"
    }
   ],
   "source": [
    "test_dataset.head()"
   ]
  },
  {
   "cell_type": "code",
   "execution_count": 108,
   "metadata": {},
   "outputs": [
    {
     "data": {
      "text/html": [
       "<div>\n",
       "<style scoped>\n",
       "    .dataframe tbody tr th:only-of-type {\n",
       "        vertical-align: middle;\n",
       "    }\n",
       "\n",
       "    .dataframe tbody tr th {\n",
       "        vertical-align: top;\n",
       "    }\n",
       "\n",
       "    .dataframe thead th {\n",
       "        text-align: right;\n",
       "    }\n",
       "</style>\n",
       "<table border=\"1\" class=\"dataframe\">\n",
       "  <thead>\n",
       "    <tr style=\"text-align: right;\">\n",
       "      <th></th>\n",
       "      <th>C6Plus_RON</th>\n",
       "      <th>Coke_Laydown_Rate_Rx4</th>\n",
       "      <th>Reformer_WAIT</th>\n",
       "      <th>Feed_Mass_Flow</th>\n",
       "      <th>H2HC_Ratio</th>\n",
       "    </tr>\n",
       "  </thead>\n",
       "  <tbody>\n",
       "    <tr>\n",
       "      <th>72</th>\n",
       "      <td>105.4</td>\n",
       "      <td>88.2</td>\n",
       "      <td>520</td>\n",
       "      <td>170000.0</td>\n",
       "      <td>3.0</td>\n",
       "    </tr>\n",
       "  </tbody>\n",
       "</table>\n",
       "</div>"
      ],
      "text/plain": [
       "    C6Plus_RON  Coke_Laydown_Rate_Rx4  Reformer_WAIT  Feed_Mass_Flow  \\\n",
       "72       105.4                   88.2            520        170000.0   \n",
       "\n",
       "    H2HC_Ratio  \n",
       "72         3.0  "
      ]
     },
     "execution_count": 108,
     "metadata": {},
     "output_type": "execute_result"
    }
   ],
   "source": [
    "def norm(x):\n",
    "    stat = np.array([[5.11041667e+02, 1.41591827e+01],\n",
    "                    [1.72916667e+05, 2.24624443e+03],\n",
    "                    [3.52083333e+00, 4.09856629e-01]])\n",
    "    return (x - stat[:,[0]].T) / stat[:,[1]].T\n",
    "test_dataset.iloc[[11]]"
   ]
  },
  {
   "cell_type": "markdown",
   "metadata": {
    "colab_type": "text",
    "id": "SmjdzxKzEu1-"
   },
   "source": [
    "## The model"
   ]
  },
  {
   "cell_type": "code",
   "execution_count": 21,
   "metadata": {},
   "outputs": [],
   "source": [
    "model = load_model('RON.h5')"
   ]
  },
  {
   "cell_type": "markdown",
   "metadata": {
    "colab_type": "text",
    "id": "Sj49Og4YGULr"
   },
   "source": [
    "### Inspect the model\n",
    "\n",
    "Use the `.summary` method to print a simple description of the model"
   ]
  },
  {
   "cell_type": "code",
   "execution_count": 22,
   "metadata": {
    "colab": {
     "base_uri": "https://localhost:8080/",
     "height": 323
    },
    "colab_type": "code",
    "executionInfo": {
     "elapsed": 1355,
     "status": "ok",
     "timestamp": 1566299849855,
     "user": {
      "displayName": "James T Joseph",
      "photoUrl": "https://lh3.googleusercontent.com/a-/AAuE7mAcu_oUwdtaKADavmin2nq4aZtcHyb8N9p0iAp_ABs=s64",
      "userId": "01930079610007864337"
     },
     "user_tz": -330
    },
    "id": "ReAD0n6MsFK-",
    "outputId": "2e0f0c5f-62b5-4b88-e1d7-f4853f0371c3"
   },
   "outputs": [
    {
     "name": "stdout",
     "output_type": "stream",
     "text": [
      "Model: \"sequential_6\"\n",
      "_________________________________________________________________\n",
      "Layer (type)                 Output Shape              Param #   \n",
      "=================================================================\n",
      "dense_23 (Dense)             (None, 4)                 16        \n",
      "_________________________________________________________________\n",
      "dense_24 (Dense)             (None, 4)                 20        \n",
      "_________________________________________________________________\n",
      "dense_25 (Dense)             (None, 4)                 20        \n",
      "_________________________________________________________________\n",
      "dense_26 (Dense)             (None, 4)                 20        \n",
      "_________________________________________________________________\n",
      "dense_27 (Dense)             (None, 1)                 5         \n",
      "=================================================================\n",
      "Total params: 81\n",
      "Trainable params: 81\n",
      "Non-trainable params: 0\n",
      "_________________________________________________________________\n"
     ]
    }
   ],
   "source": [
    "model.summary()"
   ]
  },
  {
   "cell_type": "code",
   "execution_count": 23,
   "metadata": {
    "colab": {
     "base_uri": "https://localhost:8080/",
     "height": 34
    },
    "colab_type": "code",
    "executionInfo": {
     "elapsed": 50856,
     "status": "ok",
     "timestamp": 1566300812826,
     "user": {
      "displayName": "James T Joseph",
      "photoUrl": "https://lh3.googleusercontent.com/a-/AAuE7mAcu_oUwdtaKADavmin2nq4aZtcHyb8N9p0iAp_ABs=s64",
      "userId": "01930079610007864337"
     },
     "user_tz": -330
    },
    "id": "jl_yNr5n1kms",
    "outputId": "e7bd4266-1f1c-42ef-fbdd-e44a33960dc5"
   },
   "outputs": [
    {
     "name": "stdout",
     "output_type": "stream",
     "text": [
      "Testing set Mean Abs Error:  0.62 C6PlusRON\n"
     ]
    }
   ],
   "source": [
    "loss, mae, mse = model.evaluate(normed_test_data, test_labels, verbose=0)\n",
    "\n",
    "print(\"Testing set Mean Abs Error: {:5.2f} C6PlusRON\".format(mae))"
   ]
  },
  {
   "cell_type": "markdown",
   "metadata": {
    "colab_type": "text",
    "id": "ft603OzXuEZC"
   },
   "source": [
    "### Make predictions\n",
    "\n",
    "Finally, predict RON values using data in the testing set:"
   ]
  },
  {
   "cell_type": "code",
   "execution_count": 24,
   "metadata": {
    "colab": {
     "base_uri": "https://localhost:8080/",
     "height": 283
    },
    "colab_type": "code",
    "executionInfo": {
     "elapsed": 50838,
     "status": "ok",
     "timestamp": 1566300812827,
     "user": {
      "displayName": "James T Joseph",
      "photoUrl": "https://lh3.googleusercontent.com/a-/AAuE7mAcu_oUwdtaKADavmin2nq4aZtcHyb8N9p0iAp_ABs=s64",
      "userId": "01930079610007864337"
     },
     "user_tz": -330
    },
    "id": "Xe7RXH3N3CWU",
    "outputId": "4e5c3aa1-9f40-4e57-c703-228dda6c62fd"
   },
   "outputs": [
    {
     "data": {
      "image/png": "[encoded data removed]",
      "text/plain": [
       "<Figure size 432x288 with 1 Axes>"
      ]
     },
     "metadata": {
      "needs_background": "light"
     },
     "output_type": "display_data"
    }
   ],
   "source": [
    "test_predictions = model.predict(normed_test_data).flatten()\n",
    "\n",
    "plt.scatter(test_labels, test_predictions)\n",
    "plt.xlabel('True Values [C6PlusRON]')\n",
    "plt.ylabel('Predictions [C6PlusRON]')\n",
    "plt.axis('equal')\n",
    "plt.axis('square')\n",
    "plt.xlim([93,110])\n",
    "plt.ylim([93,110])\n",
    "_ = plt.plot([90, 107], [90, 107])\n",
    "plt.show()\n"
   ]
  },
  {
   "cell_type": "markdown",
   "metadata": {
    "colab_type": "text",
    "id": "OrkHGKZcusUo"
   },
   "source": [
    "It looks like our model predicts reasonably well. Let's take a look at the error distribution."
   ]
  },
  {
   "cell_type": "code",
   "execution_count": 25,
   "metadata": {
    "colab": {
     "base_uri": "https://localhost:8080/",
     "height": 283
    },
    "colab_type": "code",
    "executionInfo": {
     "elapsed": 52252,
     "status": "ok",
     "timestamp": 1566300814257,
     "user": {
      "displayName": "James T Joseph",
      "photoUrl": "https://lh3.googleusercontent.com/a-/AAuE7mAcu_oUwdtaKADavmin2nq4aZtcHyb8N9p0iAp_ABs=s64",
      "userId": "01930079610007864337"
     },
     "user_tz": -330
    },
    "id": "f-OHX4DiXd8x",
    "outputId": "d32aa524-29b5-4936-9d8e-34ae241d5d3a"
   },
   "outputs": [
    {
     "data": {
      "image/png": "[encoded data removed]",
      "text/plain": [
       "<Figure size 432x288 with 1 Axes>"
      ]
     },
     "metadata": {
      "needs_background": "light"
     },
     "output_type": "display_data"
    }
   ],
   "source": [
    "error = test_predictions - np.array(test_labels)\n",
    "\n",
    "plt.hist(error, bins = 25)\n",
    "\n",
    "plt.xlabel(\"Prediction Error [C6PlusRON]\")\n",
    "_ = plt.ylabel(\"Count\")\n",
    "plt.show()"
   ]
  },
  {
   "cell_type": "code",
   "execution_count": 133,
   "metadata": {},
   "outputs": [
    {
     "data": {
      "text/plain": [
       "106.14844512939453"
      ]
     },
     "execution_count": 133,
     "metadata": {},
     "output_type": "execute_result"
    }
   ],
   "source": [
    "float(model.predict(norm([520,170000.0,4.0])))"
   ]
  }
 ],
 "metadata": {
  "accelerator": "TPU",
  "colab": {
   "collapsed_sections": [],
   "name": "RON_regression.ipynb",
   "provenance": [],
   "toc_visible": true,
   "version": "0.3.2"
  },
  "kernelspec": {
   "display_name": "Python 3",
   "language": "python",
   "name": "python3"
  },
  "language_info": {
   "codemirror_mode": {
    "name": "ipython",
    "version": 3
   },
   "file_extension": ".py",
   "mimetype": "text/x-python",
   "name": "python",
   "nbconvert_exporter": "python",
   "pygments_lexer": "ipython3",
   "version": "3.7.1"
  }
 },
 "nbformat": 4,
 "nbformat_minor": 1
}
